{
 "cells": [
  {
   "cell_type": "markdown",
   "id": "696182cf",
   "metadata": {},
   "source": [
    "#  Invoice Small Project"
   ]
  },
  {
   "cell_type": "code",
   "execution_count": 1,
   "id": "6f1b82b5",
   "metadata": {},
   "outputs": [],
   "source": [
    "product1_name, product1_price = 'Books', 50.95\n",
    "product2_name, product2_price = 'Computer', 598.99\n",
    "product3_name, product3_price = 'Monitor', 156.89"
   ]
  },
  {
   "cell_type": "code",
   "execution_count": 5,
   "id": "7dfb6c4d",
   "metadata": {},
   "outputs": [
    {
     "name": "stdout",
     "output_type": "stream",
     "text": [
      "**************************************************\n",
      "\tProduct Name\tProduct Price\n",
      "\tBooks\t\t$50.95\n",
      "\tComputer\t$598.99\n",
      "\tMonitor\t\t$156.89\n",
      "==================================================\n",
      "\t\t\tTotal\n",
      "\t\t\t$806.83\n",
      "==================================================\n",
      "\n",
      "\tThanks for shopping with us today!\n",
      "\n"
     ]
    }
   ],
   "source": [
    "message = 'Thanks for shopping with us today!'\n",
    "# create a top border\n",
    "print('*' * 50)\n",
    "\n",
    "print('\\tProduct Name\\tProduct Price')\n",
    "# create a print statement for each item\n",
    "print('\\t{}\\t\\t${}'.format(product1_name.title(), product1_price))\n",
    "print('\\t{}\\t${}'.format(product2_name.title(), product2_price))\n",
    "print('\\t{}\\t\\t${}'.format(product3_name.title(), product3_price))\n",
    "\n",
    "\n",
    "\n",
    "print('=' * 50)\n",
    "\n",
    "print('\\t\\t\\tTotal')\n",
    "\n",
    "total = product1_price + product2_price + product3_price\n",
    "print('\\t\\t\\t${}'.format(total))\n",
    "\n",
    "print('=' * 50)\n",
    "\n",
    "print('\\n\\t{}\\n'.format(message))"
   ]
  },
  {
   "cell_type": "code",
   "execution_count": null,
   "id": "ef151ca8",
   "metadata": {},
   "outputs": [],
   "source": []
  }
 ],
 "metadata": {
  "kernelspec": {
   "display_name": "Python 3 (ipykernel)",
   "language": "python",
   "name": "python3"
  },
  "language_info": {
   "codemirror_mode": {
    "name": "ipython",
    "version": 3
   },
   "file_extension": ".py",
   "mimetype": "text/x-python",
   "name": "python",
   "nbconvert_exporter": "python",
   "pygments_lexer": "ipython3",
   "version": "3.9.7"
  }
 },
 "nbformat": 4,
 "nbformat_minor": 5
}
